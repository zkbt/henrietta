{
 "cells": [
  {
   "cell_type": "markdown",
   "metadata": {},
   "source": [
    "# Installation\n",
    "\n",
    "`henrietta` is a Python package. It's already installed on `scorpius`, but you may want to install it on your own computer. These are instructions to help do that. If you have any questions, please come talk to Will or Zach!"
   ]
  },
  {
   "cell_type": "markdown",
   "metadata": {},
   "source": [
    "## Installing on scorpius\n",
    "The latest versions of these tools will always already be available on the `scorpius` machines at CU Boulder. To access them, simply run the command \n",
    "```\n",
    "source henrietta\n",
    "```\n",
    "from the UNIX prompt. This will activate an environment that has all the basic tools you need for playing with Kepler and TESS light curve data, as well as the tools in our `henrietta` package. This not only includes the specific Python package described here, it also activates a whole environment full of useful tools. \n",
    "\n",
    "If you don't want to run this command every time you open a terminal, you can include it as a shortcut that opens automatically. To do so, edit the file called `~/.bashrc` in your home directory on `scorpius`, and add the line `source henrietta` to the bottom of the file. Save it, and then next time you open a terminal, you should start out in the henrietta environment."
   ]
  },
  {
   "cell_type": "markdown",
   "metadata": {},
   "source": [
    "## Installing on your own computer\n",
    "If you want to install on `henrietta` on your own computer, please skip on over to the [github repository](https://github.com/zkbt/henrietta), and follow the installation instructions listed there. We'll be updating the `henrietta` package throughout the semester. To get the latest, you'll need to upgrade the package periodically."
   ]
  }
 ],
 "metadata": {
  "kernelspec": {
   "display_name": "Python 3",
   "language": "python",
   "name": "python3"
  },
  "language_info": {
   "codemirror_mode": {
    "name": "ipython",
    "version": 3
   },
   "file_extension": ".py",
   "mimetype": "text/x-python",
   "name": "python",
   "nbconvert_exporter": "python",
   "pygments_lexer": "ipython3",
   "version": "3.6.5"
  }
 },
 "nbformat": 4,
 "nbformat_minor": 2
}
