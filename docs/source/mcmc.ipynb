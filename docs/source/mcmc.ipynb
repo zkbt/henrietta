{
 "cells": [
  {
   "cell_type": "markdown",
   "metadata": {},
   "source": [
    "# MCMC Basics\n",
    "\n",
    "Here is a quick outline of how to use the mcmc tool in henrietta."
   ]
  },
  {
   "cell_type": "code",
   "execution_count": 5,
   "metadata": {},
   "outputs": [],
   "source": [
    "import henrietta as hsl"
   ]
  },
  {
   "cell_type": "markdown",
   "metadata": {},
   "source": [
    "Before we can create a light curve model using an MCMC, we need to download some light curve data and define our custom BATMAN model."
   ]
  },
  {
   "cell_type": "code",
   "execution_count": 8,
   "metadata": {},
   "outputs": [
    {
     "name": "stdout",
     "output_type": "stream",
     "text": [
      "Downloading URL https://mast.stsci.edu/api/v0/download/file?uri=mast:Kepler/url/missions/kepler/lightcurves/0119/011904151/kplr011904151-2009166043257_llc.fits to ./mastDownload/Kepler/kplr011904151_lc_Q111111110111011101/kplr011904151-2009166043257_llc.fits ... [Done]\n"
     ]
    }
   ],
   "source": [
    "lc = hsl.download_kepler_lc('Kepler-10', quarter=1)"
   ]
  },
  {
   "cell_type": "code",
   "execution_count": 9,
   "metadata": {},
   "outputs": [],
   "source": [
    "astropy_model = hsl.setup_transit_model()"
   ]
  },
  {
   "cell_type": "markdown",
   "metadata": {},
   "source": [
    "Let's check out what the default model parameters are:"
   ]
  },
  {
   "cell_type": "code",
   "execution_count": 13,
   "metadata": {},
   "outputs": [
    {
     "data": {
      "text/plain": [
       "<BATMAN(period=1.58, t0=0., radius=0.25, a=26.5, b=0.385, baseline=1., ld1=0.1, ld2=0.3)>"
      ]
     },
     "execution_count": 13,
     "metadata": {},
     "output_type": "execute_result"
    }
   ],
   "source": [
    "astropy_model"
   ]
  },
  {
   "cell_type": "markdown",
   "metadata": {},
   "source": [
    "Kepler-10b has a period of 0.8375 days and an impact parameter of 0.3. Let's fix those values, but let the radius, t0, and a be free parameters, with ranges defined around the anticipated true value:"
   ]
  },
  {
   "cell_type": "code",
   "execution_count": 15,
   "metadata": {},
   "outputs": [],
   "source": [
    "astropy_model = hsl.setup_transit_model(period = 0.8375,\n",
    "                                        b = 0.3,\n",
    "                                        t0 = [0.09,0.12],\n",
    "                                        radius = [0.005,0.02],\n",
    "                                        a = [1.0,4.0])"
   ]
  },
  {
   "cell_type": "markdown",
   "metadata": {},
   "source": [
    "Now that we have our astropy_model object and our light curve data in the form of a lightkurve object, we are ready to model these parameters with a Markov-Chain Monte Carlo:"
   ]
  },
  {
   "cell_type": "markdown",
   "metadata": {},
   "source": [
    "The mcmc_fit function takes the astropy model, the light curve data, and one additional argument that will determine whether or not output plots will be saved to the local directory. \n",
    "\n",
    "max_likelihood is a dictionary with keys equal to the names of the free parameters. This dictionary contains 3 values for each free parameter - the maximum likelihood value (detered as the median sampled parameter) and the upper and lower 1-sigma uncertainty parameter values.\n",
    "\n",
    "samples is an object that contains many different tools for examining the MCMC results. For an in-depth look at the capabilities of this object, the user should consult the emcee handbook: http://dfm.io/emcee/current/"
   ]
  },
  {
   "cell_type": "code",
   "execution_count": null,
   "metadata": {},
   "outputs": [],
   "source": [
    "max_likelihood, samples = mcmc_fit(astropy_model,lc,saveplots=False)"
   ]
  }
 ],
 "metadata": {
  "kernelspec": {
   "display_name": "Python 3",
   "language": "python",
   "name": "python3"
  },
  "language_info": {
   "codemirror_mode": {
    "name": "ipython",
    "version": 3
   },
   "file_extension": ".py",
   "mimetype": "text/x-python",
   "name": "python",
   "nbconvert_exporter": "python",
   "pygments_lexer": "ipython3",
   "version": "3.5.4"
  }
 },
 "nbformat": 4,
 "nbformat_minor": 2
}
