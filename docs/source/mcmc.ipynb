{
 "cells": [
  {
   "cell_type": "markdown",
   "metadata": {},
   "source": [
    "# MCMC Basics\n",
    "\n",
    "Here is a quick outline of how to use the MCMC tool in `henrietta`."
   ]
  },
  {
   "cell_type": "code",
   "execution_count": null,
   "metadata": {},
   "outputs": [],
   "source": [
    "import henrietta as hsl"
   ]
  },
  {
   "cell_type": "markdown",
   "metadata": {},
   "source": [
    "Before we can create a light curve model using an MCMC, we need to download some light curve data to work with."
   ]
  },
  {
   "cell_type": "code",
   "execution_count": null,
   "metadata": {},
   "outputs": [],
   "source": [
    "lc = hsl.download_kepler_lc('Kepler-10', quarter=1)"
   ]
  },
  {
   "cell_type": "markdown",
   "metadata": {},
   "source": [
    "Then, we need to define our custom BATMAN model, including which parameters we want to fix and which parameters we want to fit."
   ]
  },
  {
   "cell_type": "code",
   "execution_count": null,
   "metadata": {},
   "outputs": [],
   "source": [
    "astropy_model = hsl.setup_transit_model()"
   ]
  },
  {
   "cell_type": "markdown",
   "metadata": {},
   "source": [
    "Let's check out what the default model parameters are:"
   ]
  },
  {
   "cell_type": "code",
   "execution_count": null,
   "metadata": {},
   "outputs": [],
   "source": [
    "astropy_model"
   ]
  },
  {
   "cell_type": "markdown",
   "metadata": {},
   "source": [
    "Kepler-10b has a period of 0.8375 days and an impact parameter of 0.3. Let's fix those values, but let the `radius`, `t0`, and `a` be free parameters, with ranges defined around the anticipated true value:"
   ]
  },
  {
   "cell_type": "code",
   "execution_count": null,
   "metadata": {},
   "outputs": [],
   "source": [
    "astropy_model = hsl.setup_transit_model(period = 0.8375,\n",
    "                                        b = 0.3,\n",
    "                                        t0 = [0.09,0.12],\n",
    "                                        radius = [0.005,0.02],\n",
    "                                        a = [1.0,4.0])"
   ]
  },
  {
   "cell_type": "markdown",
   "metadata": {},
   "source": [
    "Now that we have our `astropy_model` object and our light curve data in the form of a `lightkurve` object, we are ready to model these parameters with a Markov-Chain Monte Carlo. "
   ]
  },
  {
   "cell_type": "markdown",
   "metadata": {},
   "source": [
    "The `mcmc_fit` function takes the astropy model, the light curve data, and one additional argument that will determine whether or not output plots will be saved to the local directory. You might want to start with a small number of steps in the MCMC chain (say 100 or 1000) to see how long it takes, and then scale up to longer MCMC runs from there. This `mcmc_fit` function returns two useful variables:\n",
    "\n",
    "`max_likelihood` is a dictionary with keys equal to the names of the free parameters. This dictionary contains 3 values for each free parameter - the maximum likelihood value (detered as the median sampled parameter) and the upper and lower 1-sigma uncertainty parameter values.\n",
    "\n",
    "`samples` is an object that contains many different tools for examining the MCMC results. For an in-depth look at the capabilities of this object, the user should consult the emcee handbook: http://dfm.io/emcee/current/"
   ]
  },
  {
   "cell_type": "code",
   "execution_count": null,
   "metadata": {},
   "outputs": [],
   "source": [
    "max_likelihood, samples = hsl.mcmc_fit(astropy_model,lc,saveplots=True, nsteps=1000)"
   ]
  },
  {
   "cell_type": "markdown",
   "metadata": {},
   "source": [
    "If we open up our current directory, we should see some `.pdf` files that contain summaries of diagnostic plots made by this MCMC. We can also look at the `max_likelihood` variable now, to see the central 1-sigma ranges for each of our fitted parameters."
   ]
  },
  {
   "cell_type": "code",
   "execution_count": null,
   "metadata": {},
   "outputs": [],
   "source": [
    "max_likelihood"
   ]
  },
  {
   "cell_type": "markdown",
   "metadata": {},
   "source": [
    "There's *lots* to learn about MCMC fitting of transits, but this tool might be a handy way to get started!"
   ]
  }
 ],
 "metadata": {
  "kernelspec": {
   "display_name": "Python 3",
   "language": "python",
   "name": "python3"
  },
  "language_info": {
   "codemirror_mode": {
    "name": "ipython",
    "version": 3
   },
   "file_extension": ".py",
   "mimetype": "text/x-python",
   "name": "python",
   "nbconvert_exporter": "python",
   "pygments_lexer": "ipython3",
   "version": "3.6.5"
  }
 },
 "nbformat": 4,
 "nbformat_minor": 2
}
